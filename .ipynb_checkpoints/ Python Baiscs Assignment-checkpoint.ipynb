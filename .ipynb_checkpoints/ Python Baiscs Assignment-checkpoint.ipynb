{
 "cells": [
  {
   "cell_type": "code",
   "execution_count": 24,
   "id": "711b1b2e-2072-4cd6-9579-c46c47dd5787",
   "metadata": {},
   "outputs": [
    {
     "data": {
      "text/plain": [
       "'ans --> python is a programming language that is easy to understand and write. Making it a popular choice for developers and programmers.'"
      ]
     },
     "execution_count": 24,
     "metadata": {},
     "output_type": "execute_result"
    }
   ],
   "source": [
    "#explain the key features of Python that make it a popular choice for programming.\n",
    "'''ans --> python is a programming language that is easy to understand and write. Making it a popular choice for developers and programmers.'''"
   ]
  },
  {
   "cell_type": "code",
   "execution_count": 23,
   "id": "ae713217-e5f5-4cca-a3ad-2d11edcf05a8",
   "metadata": {},
   "outputs": [
    {
     "data": {
      "text/plain": [
       "'ans--> predefined keywords are reserved words in python. that have a special meaning.\\n example print is only used to print a statement . it cannot be useed as identifier.\\n'"
      ]
     },
     "execution_count": 23,
     "metadata": {},
     "output_type": "execute_result"
    }
   ],
   "source": [
    "#Describe the role of predefined keywords in Python and provide examples of how they are used in a program.\n",
    "'''ans--> predefined keywords are reserved words in python. that have a special meaning.\n",
    " example print is only used to print a statement . it cannot be useed as identifier.\n",
    "'''"
   ]
  },
  {
   "cell_type": "code",
   "execution_count": 4,
   "id": "4486df62-b4a7-4de0-876a-b7abfc2c8782",
   "metadata": {},
   "outputs": [
    {
     "name": "stdout",
     "output_type": "stream",
     "text": [
      "hello Manas\n"
     ]
    }
   ],
   "source": [
    "print(\"hello Manas\")"
   ]
  },
  {
   "cell_type": "code",
   "execution_count": 27,
   "id": "cd24a40a-c0da-49cd-90d8-60eff9e2a895",
   "metadata": {},
   "outputs": [],
   "source": [
    "#Compare and contrast mutable and immutable objects in Python with examples0\n",
    "''' In python mutable object mean The objects which can be modified and immutable means the objects can't be modified \n",
    "Ex- list is a mutable object and tuple is a immutable object.\n",
    "\n",
    "'''"
   ]
  },
  {
   "cell_type": "code",
   "execution_count": 29,
   "id": "353d4764-28b2-4f38-8e13-d1aaa0d5effa",
   "metadata": {},
   "outputs": [
    {
     "data": {
      "text/plain": [
       "[12, 'manas', 'panda']"
      ]
     },
     "execution_count": 29,
     "metadata": {},
     "output_type": "execute_result"
    }
   ],
   "source": [
    "a=[12,'manas',15]\n",
    "a[2]=\"panda\"\n",
    "a\n",
    "# here value 15 is changed to panda."
   ]
  },
  {
   "cell_type": "code",
   "execution_count": null,
   "id": "7d7c9188-43f5-4984-899f-74a896759e14",
   "metadata": {},
   "outputs": [],
   "source": []
  },
  {
   "cell_type": "code",
   "execution_count": 22,
   "id": "76cc363d-6ae5-4112-ae30-3ff0efcd4bcb",
   "metadata": {},
   "outputs": [
    {
     "data": {
      "text/plain": [
       "' Ans--> Python supports various types of operator such as : Arithmatic operator, Logical operator, Comparison operator, Bitwise operator,Assignmet operator\\nmembership and identity operator '"
      ]
     },
     "execution_count": 22,
     "metadata": {},
     "output_type": "execute_result"
    }
   ],
   "source": [
    "# Discuss the different types of operators in Python and provide examples of how they are used.\n",
    "''' Ans--> Python supports various types of operator such as : Arithmatic operator, Logical operator, Comparison operator, Bitwise operator,Assignmet operator\n",
    "membership and identity operator '''"
   ]
  },
  {
   "cell_type": "code",
   "execution_count": 30,
   "id": "d5ded10f-ad9d-4fa8-8950-49e621631023",
   "metadata": {},
   "outputs": [
    {
     "data": {
      "text/plain": [
       "11"
      ]
     },
     "execution_count": 30,
     "metadata": {},
     "output_type": "execute_result"
    }
   ],
   "source": [
    "a=5\n",
    "b=6\n",
    "c=a+b\n",
    "#here \"+\" is a arithmatic addition operator \n",
    "c"
   ]
  },
  {
   "cell_type": "code",
   "execution_count": 21,
   "id": "54023dd5-99fa-4c0f-b26a-f9b64721e94f",
   "metadata": {},
   "outputs": [
    {
     "data": {
      "text/plain": [
       "'ans--> Type casting is the referred to as type conversion It is the process of changing one data type to another.'"
      ]
     },
     "execution_count": 21,
     "metadata": {},
     "output_type": "execute_result"
    }
   ],
   "source": [
    "#+xplain the concept of type casting in Python with exa\u0013ples0\n",
    "'''ans--> Type casting is the referred to as type conversion It is the process of changing one data type to another.'''"
   ]
  },
  {
   "cell_type": "code",
   "execution_count": 35,
   "id": "4e058451-4c21-4ec3-a3fe-54e25e50cc3e",
   "metadata": {},
   "outputs": [
    {
     "data": {
      "text/plain": [
       "int"
      ]
     },
     "execution_count": 35,
     "metadata": {},
     "output_type": "execute_result"
    }
   ],
   "source": [
    "#ex\n",
    "a='2'\n",
    "b=int(a)\n",
    "#type(a)\n",
    "type(b)\n",
    "#here a is string type and b is int type. using int i convert string type 2 to int type\n"
   ]
  },
  {
   "cell_type": "code",
   "execution_count": 12,
   "id": "8dd1c74b-b406-4edd-9711-06e808e1b7f8",
   "metadata": {},
   "outputs": [
    {
     "data": {
      "text/plain": [
       "' ans--> Conditional statement in python are used to execute code based on the evalution. of one or more condition.\\npython supports conditional statement such as if, elif, else if, if else. '"
      ]
     },
     "execution_count": 12,
     "metadata": {},
     "output_type": "execute_result"
    }
   ],
   "source": [
    "#How do conditional state\u0013ents wo$k in Python? Illust$ate with exa\u0013ples0\n",
    "''' ans--> Conditional statement in python are used to execute code based on the evalution. of one or more condition.\n",
    "python supports conditional statement such as if, elif, else if, if else. '''"
   ]
  },
  {
   "cell_type": "code",
   "execution_count": 38,
   "id": "fc5ff685-421c-4752-97b3-b63bbdb4c91d",
   "metadata": {},
   "outputs": [
    {
     "name": "stdout",
     "output_type": "stream",
     "text": [
      "yes a is greater\n"
     ]
    }
   ],
   "source": [
    "#example\n",
    "a=100\n",
    "if a>50:\n",
    "    print('yes a is greater')"
   ]
  },
  {
   "cell_type": "code",
   "execution_count": null,
   "id": "501804e4-e0e5-4016-b91a-f855f161f23f",
   "metadata": {},
   "outputs": [],
   "source": []
  },
  {
   "cell_type": "code",
   "execution_count": 17,
   "id": "8046909e-ca98-4396-aa86-7b2d4b2e0610",
   "metadata": {},
   "outputs": [
    {
     "data": {
      "text/plain": [
       "' Ans--> pyhton offers two primary types of loops for loop, while loop.\\n   for loops are used for iterating over a sequence of elements ,\\n   while \"while\" loops are used for executing code untill specied condition become false.\\n '"
      ]
     },
     "execution_count": 17,
     "metadata": {},
     "output_type": "execute_result"
    }
   ],
   "source": [
    "#Desc$ibe the diffe$ent types of loops in Python and thei$ use cases with exa\u0013ples.\n",
    "''' Ans--> pyhton offers two primary types of loops for loop, while loop.\n",
    "   for loops are used for iterating over a sequence of elements ,\n",
    "   while \"while\" loops are used for executing code untill specied condition become false.\n",
    " '''"
   ]
  },
  {
   "cell_type": "code",
   "execution_count": 15,
   "id": "dd1f65a5-61a4-475e-ab48-3bbbd2392936",
   "metadata": {},
   "outputs": [],
   "source": [
    "#example"
   ]
  },
  {
   "cell_type": "code",
   "execution_count": 20,
   "id": "7a0a9108-e988-47b1-9e41-0b8fe9f46c6b",
   "metadata": {},
   "outputs": [
    {
     "name": "stdout",
     "output_type": "stream",
     "text": [
      "m is present\n"
     ]
    }
   ],
   "source": [
    "a=\"manas\"\n",
    "for i in a:\n",
    "    if i=='m':\n",
    "        print ('m is present')\n",
    "        \n",
    "    "
   ]
  },
  {
   "cell_type": "code",
   "execution_count": null,
   "id": "451a97b6-3c23-451b-b739-bb9a785384c8",
   "metadata": {},
   "outputs": [],
   "source": []
  }
 ],
 "metadata": {
  "kernelspec": {
   "display_name": "Python 3 (ipykernel)",
   "language": "python",
   "name": "python3"
  },
  "language_info": {
   "codemirror_mode": {
    "name": "ipython",
    "version": 3
   },
   "file_extension": ".py",
   "mimetype": "text/x-python",
   "name": "python",
   "nbconvert_exporter": "python",
   "pygments_lexer": "ipython3",
   "version": "3.10.8"
  }
 },
 "nbformat": 4,
 "nbformat_minor": 5
}
